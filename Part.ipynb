{
 "cells": [
  {
   "cell_type": "code",
   "execution_count": 1,
   "id": "6a9e82df-a30a-4f3a-be63-c32419262874",
   "metadata": {},
   "outputs": [],
   "source": [
    "import os\n",
    "import cv2\n",
    "import numpy as np"
   ]
  },
  {
   "cell_type": "code",
   "execution_count": 2,
   "id": "ee322383-1b83-4088-ac41-69a070d17747",
   "metadata": {},
   "outputs": [],
   "source": [
    "img = cv2.imread('mnist.png',0)\n",
    "os.mkdir('output')\n",
    "row ,col = img.shape\n",
    "Row = row //50\n",
    "Col = col // 100\n",
    "counter = 0\n",
    "Foldr = 0\n",
    "for i in range(0,row,Row):\n",
    "    for j in range(0,col,Col):\n",
    "        Result = img[i:i+Row,j:j+Col]\n",
    "        if counter %500==0:\n",
    "            Foldr+=1\n",
    "            os.mkdir(f'output/{Foldr}')\n",
    "        cv2.imwrite(f'output/{Foldr}/{counter}.jpg',Result)\n",
    "        counter+=1"
   ]
  }
 ],
 "metadata": {
  "kernelspec": {
   "display_name": "Python 3 (ipykernel)",
   "language": "python",
   "name": "python3"
  },
  "language_info": {
   "codemirror_mode": {
    "name": "ipython",
    "version": 3
   },
   "file_extension": ".py",
   "mimetype": "text/x-python",
   "name": "python",
   "nbconvert_exporter": "python",
   "pygments_lexer": "ipython3",
   "version": "3.9.6"
  }
 },
 "nbformat": 4,
 "nbformat_minor": 5
}
